{
 "cells": [
  {
   "cell_type": "markdown",
   "id": "41ec56d5",
   "metadata": {},
   "source": [
    "### Process raw historical baby name data in the United States (1880-2023)\n",
    "\n",
    "Historical baby names were downloaded from [this social security administration website](https://www.ssa.gov/oact/babynames/limits.html).  THere is one download for all US names and a second download that includes names by state as well. The \"All Names\" download included the following ReadMe:\n",
    "\n",
    "![BabyName-ReadMe](allnames-ReadMe.png) \n"
   ]
  },
  {
   "cell_type": "code",
   "execution_count": 1,
   "id": "7e535476",
   "metadata": {},
   "outputs": [],
   "source": [
    "from pathlib import Path\n",
    "import pandas as pd\n",
    "import numpy as np\n",
    "import seaborn as sns"
   ]
  },
  {
   "cell_type": "code",
   "execution_count": 2,
   "id": "84234b20",
   "metadata": {},
   "outputs": [],
   "source": [
    "# Grab all text files and compile into master dataframe\n",
    "allnames_paths = list(Path('./allnames').glob('yob*.txt'))\n",
    "df_allnames = pd.DataFrame([], columns=['Name', 'Sex'])\n",
    "df_allnames.set_index(['Name', 'Sex'], inplace=True)\n",
    "for text_file in allnames_paths:\n",
    "    year = str(text_file.name.split('.')[0][3:])\n",
    "    df_temp = pd.read_csv(text_file, names=['Name', 'Sex', year], \n",
    "                          dtype={'Name': str, 'Sex': str, year: 'Int32'})\n",
    "    df_temp.set_index(['Name', 'Sex'], inplace=True)\n",
    "    df_allnames = df_allnames.join(df_temp, how='outer')\n",
    "# Clean up resultant dataframe\n",
    "df_allnames.fillna(0, inplace=True)\n",
    "ordered_cols = df_allnames.columns.sort_values(ascending=False)\n",
    "df_allnames = df_allnames[ordered_cols]"
   ]
  },
  {
   "cell_type": "code",
   "execution_count": 3,
   "id": "74be29ee-d060-43d1-b93e-262ea75fc63e",
   "metadata": {},
   "outputs": [
    {
     "name": "stdout",
     "output_type": "stream",
     "text": [
      "Name  Sex\n",
      "Bob   M      73\n",
      "Name: 1985, dtype: Int32 \n",
      "\n",
      " -------\n",
      "          Count\n",
      "Name Sex       \n",
      "Bob  M       73\n"
     ]
    }
   ],
   "source": [
    "# Spot checks on data quality:\n",
    "name = 'Bob'\n",
    "sex = 'M'\n",
    "year = '1985'\n",
    "print(df_allnames.loc[df_allnames.index == (name, sex)][year], '\\n\\n', '-------')\n",
    "\n",
    "df = pd.read_csv(f'./allnames/yob{year}.txt', header=None)\n",
    "df.columns=['Name', 'Sex', 'Count']\n",
    "# Set a multi-index for name and sex for names that go both ways\n",
    "df.set_index(['Name', 'Sex'], inplace=True)\n",
    "print(df.loc[df.index == (name, sex)])"
   ]
  },
  {
   "cell_type": "code",
   "execution_count": 4,
   "id": "443feb9f-3470-4d24-8010-8d16e7671de3",
   "metadata": {},
   "outputs": [],
   "source": [
    "# Breakout names by sex \n",
    "males = df_allnames[['M' in x for x in list(df_allnames.index)]]\n",
    "males = males.droplevel('Sex')\n",
    "females = df_allnames[['F' in x for x in list(df_allnames.index)]]\n",
    "females = females.droplevel('Sex')"
   ]
  },
  {
   "cell_type": "code",
   "execution_count": 5,
   "id": "5dd5dc36-2679-4e13-aa79-b361d4e0bb42",
   "metadata": {},
   "outputs": [],
   "source": [
    "n = 1000\n",
    "male_dict = {}\n",
    "female_dict = {}\n",
    "for year in males.columns:\n",
    "    male_dict[year] = males[year].nlargest(n).index.values\n",
    "    female_dict[year] = females[year].nlargest(n).index.values\n",
    "top_males = pd.DataFrame(male_dict)\n",
    "top_females = pd.DataFrame(female_dict)"
   ]
  },
  {
   "cell_type": "code",
   "execution_count": 28,
   "id": "cf615304-562b-4ef3-b12b-3611eacc1e6d",
   "metadata": {},
   "outputs": [],
   "source": [
    "# Need openpyxl to complete\n",
    "writer = pd.ExcelWriter('Top-Names.xlsx', engine = 'xlsxwriter')\n",
    "top_males.to_excel(writer, sheet_name='Males')\n",
    "top_females.to_excel(writer, sheet_name='Females')\n",
    "writer.close()"
   ]
  },
  {
   "cell_type": "code",
   "execution_count": 7,
   "id": "51d2ceeb-517d-4fab-b20f-6586ae6b4e07",
   "metadata": {},
   "outputs": [
    {
     "name": "stdout",
     "output_type": "stream",
     "text": [
      "Summary statistics for baby names (1880-2023):\n",
      "----------------------------------------------\n",
      "Total number of unique names: male and female:  115,164\n",
      "Total number of unique names: male:  44,261\n",
      "Total number of unique names: female:  70,903\n"
     ]
    }
   ],
   "source": [
    "# Summary stats\n",
    "print('Summary statistics for baby names (1880-2023):')\n",
    "print('----------------------------------------------')\n",
    "print(f'Total number of unique names: male and female:  {len(df_allnames):0,}')\n",
    "print(f'Total number of unique names: male:  {len(males):0,}')\n",
    "print(f'Total number of unique names: female:  {len(females):0,}')"
   ]
  },
  {
   "cell_type": "code",
   "execution_count": 16,
   "id": "090384e9-0141-4de0-8bae-82d76edd3c3e",
   "metadata": {},
   "outputs": [
    {
     "data": {
      "text/plain": [
       "Index(['2023', '2022', '2021', '2020', '2019', '2018', '2017', '2016', '2015',\n",
       "       '2014'],\n",
       "      dtype='object')"
      ]
     },
     "execution_count": 16,
     "metadata": {},
     "output_type": "execute_result"
    }
   ],
   "source": [
    "males.columns[:51]"
   ]
  },
  {
   "cell_type": "code",
   "execution_count": 22,
   "id": "cd5b5323-528e-4837-85b9-816b149be72a",
   "metadata": {},
   "outputs": [
    {
     "data": {
      "text/plain": [
       "150"
      ]
     },
     "execution_count": 22,
     "metadata": {},
     "output_type": "execute_result"
    }
   ],
   "source": [
    "males.loc[males.index == 'Wren']['2020'].values[0]"
   ]
  },
  {
   "cell_type": "code",
   "execution_count": 24,
   "id": "936c07b8-d978-4847-a137-e169984e3b06",
   "metadata": {},
   "outputs": [
    {
     "name": "stdout",
     "output_type": "stream",
     "text": [
      "2023: 1537\n",
      "2022: 1607\n",
      "2021: 1227\n",
      "2020: 862\n",
      "2019: 745\n",
      "2018: 666\n",
      "2017: 675\n",
      "2016: 595\n",
      "2015: 405\n",
      "2014: 403\n",
      "2013: 340\n",
      "2012: 254\n",
      "2011: 206\n",
      "2010: 185\n",
      "2009: 134\n",
      "2008: 114\n",
      "2007: 93\n",
      "2006: 100\n",
      "2005: 56\n",
      "2004: 55\n",
      "2003: 39\n",
      "2002: 35\n",
      "2001: 33\n",
      "2000: 18\n",
      "1999: 33\n",
      "1998: 24\n",
      "1997: 12\n",
      "1996: 15\n",
      "1995: 16\n",
      "1994: 9\n",
      "1993: 20\n",
      "1992: 10\n",
      "1991: 20\n",
      "1990: 10\n",
      "1989: 10\n",
      "1988: 14\n",
      "1987: 15\n",
      "1986: 11\n",
      "1985: 11\n",
      "1984: 0\n",
      "1983: 11\n",
      "1982: 5\n",
      "1981: 14\n",
      "1980: 10\n",
      "1979: 15\n",
      "1978: 12\n",
      "1977: 16\n",
      "1976: 8\n",
      "1975: 6\n",
      "1974: 0\n"
     ]
    }
   ],
   "source": [
    "for year in males.columns[:50]:\n",
    "    print(f'{year}: {females.loc[females.index == 'Wren'][year].values[0]}')"
   ]
  },
  {
   "cell_type": "code",
   "execution_count": 340,
   "id": "3f6e914c-d585-448a-90ac-2a77d55c0426",
   "metadata": {},
   "outputs": [],
   "source": [
    "total_babies = df_allnames.sum(axis=0)"
   ]
  },
  {
   "cell_type": "code",
   "execution_count": 342,
   "id": "6557a050-e6e9-460b-acbd-fae5f59c9a58",
   "metadata": {},
   "outputs": [],
   "source": [
    "total_males = males.sum(axis=0)\n",
    "total_females = females.sum(axis=0)"
   ]
  },
  {
   "cell_type": "code",
   "execution_count": 352,
   "id": "36571292-eaa9-4dd2-af86-f9281fb80ff8",
   "metadata": {},
   "outputs": [],
   "source": [
    "male_surplus = 100*(total_males-total_females)/total_babies"
   ]
  },
  {
   "cell_type": "code",
   "execution_count": 353,
   "id": "1a14163e-e5a2-4e5c-bc83-724558833a27",
   "metadata": {},
   "outputs": [
    {
     "data": {
      "text/plain": [
       "<Axes: >"
      ]
     },
     "execution_count": 353,
     "metadata": {},
     "output_type": "execute_result"
    },
    {
     "data": {
      "image/png": "[encoded data removed]",
      "text/plain": [
       "<Figure size 640x480 with 1 Axes>"
      ]
     },
     "metadata": {},
     "output_type": "display_data"
    }
   ],
   "source": [
    "male_surplus.plot()"
   ]
  },
  {
   "cell_type": "code",
   "execution_count": null,
   "id": "333b1333-f07b-4e15-920b-c189dbcb0e12",
   "metadata": {},
   "outputs": [],
   "source": []
  }
 ],
 "metadata": {
  "kernelspec": {
   "display_name": "Python 3 (ipykernel)",
   "language": "python",
   "name": "python3"
  },
  "language_info": {
   "codemirror_mode": {
    "name": "ipython",
    "version": 3
   },
   "file_extension": ".py",
   "mimetype": "text/x-python",
   "name": "python",
   "nbconvert_exporter": "python",
   "pygments_lexer": "ipython3",
   "version": "3.12.2"
  }
 },
 "nbformat": 4,
 "nbformat_minor": 5
}
